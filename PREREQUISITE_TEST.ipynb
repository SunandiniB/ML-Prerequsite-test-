{
 "cells": [
  {
   "cell_type": "markdown",
   "metadata": {},
   "source": [
    "Q1)How many multiplications and additions do you need to perform a matrix multiplication between a (n, k) and (k, m) matrix? Explain."
   ]
  },
  {
   "cell_type": "markdown",
   "metadata": {},
   "source": [
    "MULTIPLICATION:  n*k*m\n",
    "To compute each element in the resulting matrix C, we perform k multiplications for a total of k operations. As there are n * m elements in the resulting matrix C, we do n * m * k multiplications.\n",
    "\n",
    "ADDITION: n*m*(k-1)\n",
    "To compute each element in the resulting matrix C, we perform k multiplications for a total of k operations. As there are n * m elements in the resulting matrix C, we do  n * m * (k - 1) additions.\n",
    "\n",
    "In total we do n * m * (2k - 1) operations."
   ]
  },
  {
   "cell_type": "markdown",
   "metadata": {},
   "source": [
    "Q2)Write Python code to multiply the above two matrices. Solve using list of lists and then use numpy. Compare the timing of both solutions. Which one is faster? Why?"
   ]
  },
  {
   "cell_type": "code",
   "execution_count": 163,
   "metadata": {},
   "outputs": [
    {
     "name": "stdout",
     "output_type": "stream",
     "text": [
      "[[38, 32], [101, 86], [164, 140]]\n"
     ]
    }
   ],
   "source": [
    "2.\n",
    "#Using List of Lists\n",
    "def matrix_multiply(a, b):\n",
    "    result = [[0 for _ in range(len(b[0]))] for _ in range(len(a))]\n",
    "    \n",
    "    for i in range(len(a)):\n",
    "        for j in range(len(b[0])):\n",
    "            for k in range(len(b)):\n",
    "                result[i][j] += a[i][k] * b[k][j]\n",
    "                \n",
    "    return result\n",
    "    \n",
    "n, k, m = 3, 4, 2\n",
    "matrix_a = [[1, 2, 3], [4, 5, 6], [7, 8, 9]]\n",
    "matrix_b = [[9, 8], [7, 6], [5, 4]]\n",
    "\n",
    "result_list_of_lists = matrix_multiply(matrix_a, matrix_b)\n",
    "print(result_list_of_lists)"
   ]
  },
  {
   "cell_type": "code",
   "execution_count": 164,
   "metadata": {},
   "outputs": [
    {
     "name": "stdout",
     "output_type": "stream",
     "text": [
      "[[ 38  32]\n",
      " [101  86]\n",
      " [164 140]]\n"
     ]
    }
   ],
   "source": [
    "2.\n",
    "#Using NumPy\n",
    "import numpy as np\n",
    "\n",
    "n, k, m = 3, 4, 2\n",
    "matrix_a = np.array([[1, 2, 3], [4, 5, 6], [7, 8, 9]])\n",
    "matrix_b = np.array([[9, 8], [7, 6], [5, 4]])\n",
    "\n",
    "result_numpy = np.dot(matrix_a, matrix_b)\n",
    "print(result_numpy)"
   ]
  },
  {
   "cell_type": "code",
   "execution_count": 165,
   "metadata": {},
   "outputs": [
    {
     "name": "stdout",
     "output_type": "stream",
     "text": [
      "Time using List of lists: 0.365409 seconds\n",
      "Time using NumPy: 0.212943 seconds\n"
     ]
    }
   ],
   "source": [
    "2.\n",
    "#Timing\n",
    "import timeit\n",
    "\n",
    "n, k, m = 3, 4, 2\n",
    "matrix_a = [[1, 2, 3], [4, 5, 6], [7, 8, 9]]\n",
    "matrix_b = [[9, 8], [7, 6], [5, 4]]\n",
    "matrix_a_np = np.array(matrix_a)\n",
    "matrix_b_np = np.array(matrix_b)\n",
    "\n",
    "# Timing using List of lists\n",
    "time_list_of_lists = timeit.timeit(lambda: matrix_multiply(matrix_a, matrix_b), number=10000)\n",
    "\n",
    "# Timing using NumPy\n",
    "time_numpy = timeit.timeit(lambda: np.dot(matrix_a_np, matrix_b_np), number=10000)\n",
    "\n",
    "print(f\"Time using List of lists: {time_list_of_lists:.6f} seconds\")\n",
    "print(f\"Time using NumPy: {time_numpy:.6f} seconds\")\n"
   ]
  },
  {
   "cell_type": "markdown",
   "metadata": {},
   "source": [
    "NumPy is faster than List of lists.\n",
    " NumPy has the main aim to reduce or remove the explicit use of for loops in the program by which computation becomes faster. "
   ]
  },
  {
   "cell_type": "markdown",
   "metadata": {},
   "source": [
    "Q3)Finding the highest element in a list requires one pass of the array. Finding the second highest element requires 2 passes of the the array. Using this method, what is the time complexity of finding the median of the array? Can you suggest a better method? Can you implement both these methods in Python and compare against numpy.median routine in terms of time?"
   ]
  },
  {
   "cell_type": "code",
   "execution_count": 166,
   "metadata": {},
   "outputs": [
    {
     "name": "stdout",
     "output_type": "stream",
     "text": [
      "Time taken for inefficient method: 0.45678067207336426 seconds\n",
      "Time taken for efficient method (QuickSelect): 0.0025610923767089844 seconds\n",
      "Time taken for NumPy median: 0.002926349639892578 seconds\n"
     ]
    }
   ],
   "source": [
    "3.\n",
    "import numpy as np\n",
    "import time\n",
    "\n",
    "def find_median1(arr):\n",
    "    temp1=0\n",
    "    temp2=0\n",
    "    maxm=0\n",
    "    times=int(len(arr)/2) + 1\n",
    "    for i in range(times):\n",
    "        max_index=0\n",
    "        temp2=maxm\n",
    "        maxm=arr[0]\n",
    "        for j in range(len(arr)):\n",
    "            if(arr[j] > maxm):\n",
    "                maxm=arr[j]\n",
    "                max_index=j\n",
    "            temp1=maxm\n",
    "        arr = np.delete(arr, max_index)\n",
    "\n",
    "    if(len(arr)%2==1):\n",
    "        return temp1\n",
    "    else:\n",
    "        return (temp1+temp2)*0.5\n",
    "    \n",
    "def find_median2(arr):\n",
    "    sorted_arr = sorted(arr)\n",
    "    n = len(sorted_arr)\n",
    "\n",
    "    if n % 2 == 1:\n",
    "        return sorted_arr[n // 2]\n",
    "    else:\n",
    "        middle1 = sorted_arr[n // 2 - 1]\n",
    "        middle2 = sorted_arr[n // 2]\n",
    "        return (middle1 + middle2) / 2\n",
    "\n",
    "arr = np.random.rand(10**3)\n",
    "\n",
    "start_time = time.time()\n",
    "median_passes = find_median1(arr.copy())\n",
    "end_time = time.time()\n",
    "print(f\"Time taken for inefficient method: {end_time - start_time} seconds\")\n",
    "\n",
    "start_time = time.time()\n",
    "median_quickselect = find_median2(arr.copy())\n",
    "end_time = time.time()\n",
    "print(f\"Time taken for efficient method (QuickSelect): {end_time - start_time} seconds\")\n",
    "\n",
    "start_time = time.time()\n",
    "median_numpy = np.median(arr)\n",
    "end_time = time.time()\n",
    "print(f\"Time taken for NumPy median: {end_time - start_time} seconds\")"
   ]
  },
  {
   "cell_type": "markdown",
   "metadata": {},
   "source": [
    "Q4)What is the gradient of the following function with respect to x and y?"
   ]
  },
  {
   "cell_type": "markdown",
   "metadata": {},
   "source": [
    "Partial derivative with respect to x: 2xy + y^3 * cos(x)\n",
    "\n",
    "Partial derivative with respect to y: x^2 + 3y^2 * sin(x)\n",
    "\n",
    "Gradient f(x,y) = (2xy + y^3 * cos(x))i + (x^2 +3 * y^2 * sin(x))j"
   ]
  },
  {
   "cell_type": "markdown",
   "metadata": {},
   "source": [
    "Q5)Use JAX to confirm the gradient evaluated by your method matches the analytical solution corresponding to a few random values of x and y"
   ]
  },
  {
   "cell_type": "code",
   "execution_count": 167,
   "metadata": {},
   "outputs": [
    {
     "name": "stdout",
     "output_type": "stream",
     "text": [
      "Analytical Gradient: [ 6.5658975 14.21994  ]\n",
      "JAX Gradient: (Array(6.5658975, dtype=float32, weak_type=True), Array(14.21994, dtype=float32, weak_type=True))\n"
     ]
    }
   ],
   "source": [
    "5.\n",
    "import jax\n",
    "import jax.numpy as jnp\n",
    "\n",
    "def f(x, y):\n",
    "    return x**2 * y + y**3 * jnp.sin(x)\n",
    "\n",
    "grad_f = jax.grad(f, argnums=(0, 1))\n",
    "\n",
    "x_val = 1.5\n",
    "y_val = 2.0\n",
    "\n",
    "analytical_gradient = jnp.array([2*x_val*y_val + y_val**3 * jnp.cos(x_val), x_val**2 + 3*y_val**2 * jnp.sin(x_val)])\n",
    "jax_gradient = grad_f(x_val, y_val)\n",
    "\n",
    "print(\"Analytical Gradient:\", analytical_gradient)\n",
    "print(\"JAX Gradient:\", jax_gradient)"
   ]
  },
  {
   "cell_type": "markdown",
   "metadata": {},
   "source": [
    "Q6)Use sympy to confirm that you obtain the same gradient analytically."
   ]
  },
  {
   "cell_type": "code",
   "execution_count": 168,
   "metadata": {},
   "outputs": [
    {
     "name": "stdout",
     "output_type": "stream",
     "text": [
      "Analytical Gradient (SymPy): Matrix([[2*x*y + y**3*cos(x)], [x**2 + 3*y**2*sin(x)]])\n",
      "Analytical Gradient Values: Matrix([[6.56589761334162], [14.2199398392487]])\n"
     ]
    }
   ],
   "source": [
    "6. \n",
    "import sympy as sp\n",
    "\n",
    "x, y = sp.symbols('x y')\n",
    "\n",
    "f = x**2 * y + y**3 * sp.sin(x)\n",
    "\n",
    "df_dx = sp.diff(f, x)\n",
    "df_dy = sp.diff(f, y)\n",
    "\n",
    "analytical_gradient_sympy = sp.Matrix([df_dx, df_dy])\n",
    "print(\"Analytical Gradient (SymPy):\", analytical_gradient_sympy)\n",
    "\n",
    "x_val = 1.5\n",
    "y_val = 2.0\n",
    "\n",
    "analytical_gradient_values = analytical_gradient_sympy.subs({x: x_val, y: y_val})\n",
    "print(\"Analytical Gradient Values:\", analytical_gradient_values)"
   ]
  },
  {
   "cell_type": "markdown",
   "metadata": {},
   "source": [
    "Q7)Create a Python nested dictionary to represent hierarchical information. We want to store record of students and their marks. "
   ]
  },
  {
   "cell_type": "code",
   "execution_count": 169,
   "metadata": {},
   "outputs": [
    {
     "name": "stdout",
     "output_type": "stream",
     "text": [
      "Sample Information:\n",
      "Year: 2022, Branch: Branch 1, S1 detail: {'Roll Number': 1, 'Name': 'N', 'Marks': {'Maths': 100, 'English': 70}}\n",
      "Year: 2022, Branch: Branch 1, S1, Marks: {'Maths': 100, 'English': 70}\n"
     ]
    }
   ],
   "source": [
    "7.\n",
    "student_records = {\n",
    "    2022: {\n",
    "        'Branch 1': {\n",
    "            'S1':{\n",
    "                'Roll Number': 1,\n",
    "                'Name': 'N',\n",
    "                'Marks': {\n",
    "                    'Maths': 100,\n",
    "                    'English': 70  \n",
    "                }\n",
    "            }\n",
    "        },\n",
    "        'Branch 2': {\n",
    "            # Add student records for Branch 2 in 2022 \n",
    "        }\n",
    "    },\n",
    "    2023: {\n",
    "        'Branch 1': {\n",
    "            # Add student records for Branch 1 in 2023\n",
    "        },\n",
    "        'Branch 2': {\n",
    "            # Add student records for Branch 2 in 2023\n",
    "        }\n",
    "    },\n",
    "    2024: {\n",
    "        'Branch 1': {\n",
    "            # Add student records for Branch 1 in 2024\n",
    "        },\n",
    "        'Branch 2': {\n",
    "            # Add student records for Branch 2 in 2024\n",
    "        }\n",
    "    },\n",
    "    2025: {\n",
    "        'Branch 1': {\n",
    "            # Add student records for Branch 1 in 2025\n",
    "        },\n",
    "        'Branch 2': {\n",
    "            # Add student records for Branch 2 in 2025\n",
    "        }\n",
    "    }\n",
    "}\n",
    "\n",
    "print(\"Sample Information:\")\n",
    "print(\"Year: 2022, Branch: Branch 1, S1 detail:\", student_records[2022]['Branch 1']['S1'])\n",
    "print(\"Year: 2022, Branch: Branch 1, S1, Marks:\", student_records[2022]['Branch 1']['S1']['Marks'])"
   ]
  },
  {
   "cell_type": "markdown",
   "metadata": {},
   "source": [
    "Q8)Store the same information using Python classes. We have an overall database which is a list of year objects. Each year contains a list of branches. Each branch contains a list of students. Each student has some properties like name, roll number and has marks in some subjects."
   ]
  },
  {
   "cell_type": "code",
   "execution_count": 170,
   "metadata": {},
   "outputs": [
    {
     "name": "stdout",
     "output_type": "stream",
     "text": [
      "Sample Information:\n",
      "Year: 2022, Branch: Branch 1, Student details: {'roll_number': 1, 'name': 'N', 'marks': {'Maths': 100, 'English': 70}}\n",
      "Year: 2022, Branch: Branch 1, Student no: 1, Marks: {'Maths': 100, 'English': 70}\n"
     ]
    }
   ],
   "source": [
    "8.\n",
    "class Student:\n",
    "    def __init__(self, roll_number, name, marks):\n",
    "        self.roll_number = roll_number\n",
    "        self.name = name\n",
    "        self.marks = marks\n",
    "\n",
    "class Branch:\n",
    "    def __init__(self, branch_name):\n",
    "        self.branch_name = branch_name\n",
    "        self.students = []\n",
    "\n",
    "    def add_student(self, student):\n",
    "        self.students.append(student)\n",
    "\n",
    "class Year:\n",
    "    def __init__(self, year):\n",
    "        self.year = year\n",
    "        self.branches = []\n",
    "\n",
    "    def add_branch(self, branch):\n",
    "        self.branches.append(branch)\n",
    "\n",
    "year_objects = []\n",
    "\n",
    "year_2022 = Year(2022)\n",
    "\n",
    "branch_1_2022 = Branch('Branch 1')\n",
    "student_1_2022 = Student(1, 'N', {'Maths': 100, 'English': 70})\n",
    "\n",
    "branch_1_2022.add_student(student_1_2022)\n",
    "year_2022.add_branch(branch_1_2022)\n",
    "year_objects.append(year_2022)\n",
    "\n",
    "print(\"Sample Information:\")\n",
    "print(\"Year: 2022, Branch: Branch 1, Student details:\", year_objects[0].branches[0].students[0].__dict__)\n",
    "print(\"Year: 2022, Branch: Branch 1, Student no: 1, Marks:\", year_objects[0].branches[0].students[0].marks)"
   ]
  },
  {
   "cell_type": "markdown",
   "metadata": {},
   "source": [
    "Q9)Using matplotlib plot the following functions on the domain: x = 0.5 to 100.0 in steps of 0.5."
   ]
  },
  {
   "cell_type": "code",
   "execution_count": 171,
   "metadata": {},
   "outputs": [
    {
     "data": {
      "image/png": "[encoded data removed]",
      "text/plain": [
       "<Figure size 640x480 with 1 Axes>"
      ]
     },
     "metadata": {},
     "output_type": "display_data"
    }
   ],
   "source": [
    "9.\n",
    "import matplotlib.pyplot as plt\n",
    "import numpy as np\n",
    "\n",
    "x_values = np.arange(0.5, 100.0, 0.5)\n",
    "\n",
    "y1 = x_values\n",
    "y2 = x_values**2\n",
    "y3 = x_values**3 / 100\n",
    "y4 = np.sin(x_values)\n",
    "y5 = np.sin(x_values) / x_values\n",
    "y6 = np.log(x_values)\n",
    "y7 = np.exp(x_values)\n",
    "\n",
    "plt.plot(x_values, y1, label='y = x')\n",
    "\n",
    "plt.plot(x_values, y2, label='y = x^2')\n",
    "\n",
    "plt.plot(x_values, y3, label='y = x^3 / 100')\n",
    "\n",
    "plt.plot(x_values, y4, label='y = sin(x)')\n",
    "\n",
    "plt.plot(x_values, y5, label='y = sin(x)/x')\n",
    "\n",
    "plt.plot(x_values, y6, label='y = log(x)')\n",
    "\n",
    "plt.plot(x_values, y7, label='y = e^x')\n",
    "\n",
    "plt.xlabel('x')\n",
    "plt.ylabel('y')\n",
    "plt.title('Plot of given functions')\n",
    "plt.legend()\n",
    "\n",
    "plt.ylim(-1, 100)\n",
    "plt.show()\n"
   ]
  },
  {
   "cell_type": "markdown",
   "metadata": {},
   "source": [
    "Q10) Using numpy generate a matrix of size 20X5 containing random numbers drawn uniformly from the range of 1 to 2. Using Pandas create a dataframe out of this matrix. Name the columns of the dataframe as “a”, “b”, “c”, “d”, “e”. Find the column with the highest standard deviation. Find the row with the lowest mean.\n",
    "\n"
   ]
  },
  {
   "cell_type": "code",
   "execution_count": 172,
   "metadata": {},
   "outputs": [
    {
     "name": "stdout",
     "output_type": "stream",
     "text": [
      "DataFrame:\n",
      "           a         b         c         d         e\n",
      "0   1.396507  1.953717  1.180079  1.303296  1.487185\n",
      "1   1.160106  1.994771  1.546099  1.823023  1.116919\n",
      "2   1.097713  1.837977  1.106635  1.513558  1.315333\n",
      "3   1.364401  1.724618  1.138080  1.777415  1.821617\n",
      "4   1.410075  1.814499  1.493804  1.253472  1.450916\n",
      "5   1.792126  1.622271  1.340636  1.431455  1.576012\n",
      "6   1.439162  1.325358  1.606872  1.952081  1.971247\n",
      "7   1.045371  1.030700  1.741831  1.595559  1.508977\n",
      "8   1.806297  1.906193  1.471736  1.584824  1.478370\n",
      "9   1.569950  1.134059  1.272815  1.224124  1.059500\n",
      "10  1.691001  1.805665  1.093698  1.896397  1.420693\n",
      "11  1.101543  1.817949  1.205468  1.594617  1.472151\n",
      "12  1.195406  1.940759  1.733980  1.040264  1.000318\n",
      "13  1.166631  1.456750  1.580195  1.721164  1.397822\n",
      "14  1.485500  1.246983  1.468615  1.735309  1.400114\n",
      "15  1.972740  1.520555  1.397830  1.848785  1.720761\n",
      "16  1.197774  1.941492  1.561555  1.733437  1.500225\n",
      "17  1.607075  1.681918  1.293199  1.708855  1.781124\n",
      "18  1.568111  1.039216  1.710086  1.245460  1.051890\n",
      "19  1.055104  1.020756  1.856724  1.504252  1.779751\n",
      "\n",
      "Column with Highest Standard Deviation: b\n",
      "Row with Lowest Mean: 9\n"
     ]
    }
   ],
   "source": [
    "10.\n",
    "import numpy as np\n",
    "import pandas as pd\n",
    "\n",
    "random_matrix = np.random.uniform(1, 2, size=(20, 5))\n",
    "\n",
    "df = pd.DataFrame(random_matrix, columns=['a', 'b', 'c', 'd', 'e'])\n",
    "\n",
    "highest_std_column = df.std().idxmax()\n",
    "\n",
    "lowest_mean_row = df.mean(axis=1).idxmin()\n",
    "\n",
    "print(\"DataFrame:\")\n",
    "print(df)\n",
    "print(\"\\nColumn with Highest Standard Deviation:\", highest_std_column)\n",
    "print(\"Row with Lowest Mean:\", lowest_mean_row)"
   ]
  },
  {
   "cell_type": "markdown",
   "metadata": {},
   "source": [
    "Q11)Add a new column to the dataframe called “f” which is the sum of the columns “a”, “b”, “c”, “d”, “e”. Create another column called “g”. The value in the column “g” should be “LT8” if the value in the column “f” is less than 8 and “GT8” otherwise. Find the number of rows in the dataframe where the value in the column “g” is “LT8”. Find the standard deviation of the column “f” for the rows where the value in the column “g” is “LT8” and “GT8” respectively."
   ]
  },
  {
   "cell_type": "code",
   "execution_count": 173,
   "metadata": {},
   "outputs": [
    {
     "name": "stdout",
     "output_type": "stream",
     "text": [
      "DataFrame:\n",
      "           a         b         c         d         e         f    g\n",
      "0   1.529020  1.684899  1.412943  1.684647  1.562550  7.874060  LT8\n",
      "1   1.189135  1.246470  1.189600  1.494924  1.997450  7.117578  LT8\n",
      "2   1.249594  1.012305  1.328979  1.580442  1.156053  6.327373  LT8\n",
      "3   1.083245  1.283875  1.559551  1.141222  1.500663  6.568557  LT8\n",
      "4   1.054140  1.196338  1.121494  1.459801  1.451919  6.283692  LT8\n",
      "5   1.135672  1.609325  1.531631  1.754880  1.270590  7.302099  LT8\n",
      "6   1.893177  1.556490  1.516174  1.414326  1.652017  8.032186  GT8\n",
      "7   1.335969  1.761644  1.190297  1.841017  1.477750  7.606678  LT8\n",
      "8   1.840997  1.105123  1.140958  1.645965  1.668570  7.401613  LT8\n",
      "9   1.283317  1.281051  1.572838  1.351782  1.747968  7.236955  LT8\n",
      "10  1.995053  1.856864  1.786177  1.238198  1.781588  8.657880  GT8\n",
      "11  1.994416  1.651637  1.902054  1.577657  1.314688  8.440451  GT8\n",
      "12  1.767141  1.455712  1.837295  1.586124  1.079946  7.726218  LT8\n",
      "13  1.745598  1.978429  1.908687  1.646408  1.907929  9.187051  GT8\n",
      "14  1.378813  1.043966  1.217732  1.180177  1.055840  5.876528  LT8\n",
      "15  1.747754  1.026862  1.806368  1.748916  1.006478  7.336378  LT8\n",
      "16  1.316163  1.617975  1.508811  1.626521  1.698983  7.768453  LT8\n",
      "17  1.046125  1.932189  1.480659  1.424796  1.378882  7.262651  LT8\n",
      "18  1.181054  1.217734  1.181717  1.335919  1.920364  6.836788  LT8\n",
      "19  1.348743  1.237909  1.958722  1.176672  1.018373  6.740419  LT8\n",
      "\n",
      "Number of rows where the value in column 'g' is 'LT8': 16\n",
      "Standard deviation of column 'f' where 'g' is 'LT8': 0.5866466339572597\n",
      "Standard deviation of column 'f' where 'g' is 'GT8': 0.48102292622794046\n"
     ]
    }
   ],
   "source": [
    "11.\n",
    "import numpy as np\n",
    "import pandas as pd\n",
    "\n",
    "random_matrix = np.random.uniform(1, 2, size=(20, 5))\n",
    "\n",
    "df = pd.DataFrame(random_matrix, columns=['a', 'b', 'c', 'd', 'e'])\n",
    "\n",
    "df['f'] = df[['a', 'b', 'c', 'd', 'e']].sum(axis=1)\n",
    "\n",
    "df['g'] = np.where(df['f'] < 8, 'LT8', 'GT8')\n",
    "\n",
    "num_lt8_rows = len(df[df['g'] == 'LT8'])\n",
    "\n",
    "std_lt8 = df.loc[df['g'] == 'LT8', 'f'].std()\n",
    "std_gt8 = df.loc[df['g'] == 'GT8', 'f'].std()\n",
    "\n",
    "print(\"DataFrame:\")\n",
    "print(df)\n",
    "\n",
    "print(\"\\nNumber of rows where the value in column 'g' is 'LT8':\", num_lt8_rows)\n",
    "print(\"Standard deviation of column 'f' where 'g' is 'LT8':\", std_lt8)\n",
    "print(\"Standard deviation of column 'f' where 'g' is 'GT8':\", std_gt8)"
   ]
  },
  {
   "cell_type": "markdown",
   "metadata": {},
   "source": [
    "Q12)Write a small piece of code to explain broadcasting in numpy."
   ]
  },
  {
   "cell_type": "code",
   "execution_count": 174,
   "metadata": {},
   "outputs": [
    {
     "name": "stdout",
     "output_type": "stream",
     "text": [
      "Array a: [1 2 3]\n",
      "Scalar b: 2\n",
      "Result after broadcasting: [3 4 5]\n"
     ]
    }
   ],
   "source": [
    "12.\n",
    "import numpy as np\n",
    "\n",
    "a = np.array([1, 2, 3])\n",
    "b = 2\n",
    "\n",
    "result = a + b\n",
    "\n",
    "print(\"Array a:\", a)\n",
    "print(\"Scalar b:\", b)\n",
    "print(\"Result after broadcasting:\", result)"
   ]
  },
  {
   "cell_type": "markdown",
   "metadata": {},
   "source": [
    "Q13)Write a function to compute the argmin of a numpy array. The function should take a numpy array as input and return the index of the minimum element. You can use the np.argmin function to verify your solution."
   ]
  },
  {
   "cell_type": "code",
   "execution_count": 175,
   "metadata": {},
   "outputs": [
    {
     "name": "stdout",
     "output_type": "stream",
     "text": [
      "Custom argmin result: 3\n",
      "np.argmin result: 3\n"
     ]
    }
   ],
   "source": [
    "13.\n",
    "import numpy as np\n",
    "\n",
    "def custom_argmin(arr):\n",
    "    min_index = 0\n",
    "    min_value = arr[0]\n",
    "\n",
    "    for i in range(1, len(arr)):\n",
    "        if arr[i] < min_value:\n",
    "            min_value = arr[i]\n",
    "            min_index = i\n",
    "\n",
    "    return min_index\n",
    "\n",
    "array_to_check = np.array([4, 3, 9, 2, 3, 6])\n",
    "\n",
    "result_custom = custom_argmin(array_to_check)\n",
    "\n",
    "result_np = np.argmin(array_to_check)\n",
    "\n",
    "print(\"Custom argmin result:\", result_custom)\n",
    "print(\"np.argmin result:\", result_np)\n",
    "\n",
    "assert result_custom == result_np, \"Results do not match.\""
   ]
  }
 ],
 "metadata": {
  "kernelspec": {
   "display_name": "Python 3",
   "language": "python",
   "name": "python3"
  },
  "language_info": {
   "codemirror_mode": {
    "name": "ipython",
    "version": 3
   },
   "file_extension": ".py",
   "mimetype": "text/x-python",
   "name": "python",
   "nbconvert_exporter": "python",
   "pygments_lexer": "ipython3",
   "version": "3.11.3"
  }
 },
 "nbformat": 4,
 "nbformat_minor": 2
}
